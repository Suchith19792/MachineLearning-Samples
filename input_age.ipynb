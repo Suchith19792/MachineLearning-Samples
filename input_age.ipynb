{
  "cells": [
    {
      "cell_type": "markdown",
      "metadata": {
        "id": "view-in-github",
        "colab_type": "text"
      },
      "source": [
        "<a href=\"https://colab.research.google.com/github/Suchith19792/MachineLearning-Samples/blob/master/input_age.ipynb\" target=\"_parent\"><img src=\"https://colab.research.google.com/assets/colab-badge.svg\" alt=\"Open In Colab\"/></a>"
      ]
    },
    {
      "cell_type": "code",
      "execution_count": null,
      "metadata": {
        "collapsed": true,
        "id": "59Ku5LvlWzr5"
      },
      "outputs": [],
      "source": [
        "# ---------------------------------------------------------------\n",
        "# python best courses https://courses.tanpham.org/\n",
        "# ---------------------------------------------------------------\n",
        "# Create a program that asks the user to enter their name and their age.\n",
        "# Print out a message addressed to them that tells them the year that they will turn 100 years old."
      ]
    },
    {
      "cell_type": "code",
      "source": [
        "from datetime import datetime as dt\n",
        "\n",
        "dt.today().year"
      ],
      "metadata": {
        "id": "YIg4vAXoW0s9",
        "outputId": "fb0687cb-7d4c-4fc4-f9be-f6d7d8ccca42",
        "colab": {
          "base_uri": "https://localhost:8080/"
        }
      },
      "execution_count": 10,
      "outputs": [
        {
          "output_type": "execute_result",
          "data": {
            "text/plain": [
              "2023"
            ]
          },
          "metadata": {},
          "execution_count": 10
        }
      ]
    },
    {
      "cell_type": "code",
      "source": [
        "name = input(\"Enter name: \")\n",
        "age = int(input(\"Enter age as of today: \"))\n",
        "print(f\"Hey {name}! You will turn 100 in the year {dt.today().year - age + 100}\")"
      ],
      "metadata": {
        "id": "y_-yA7AsXJx1",
        "outputId": "c911d3cc-2619-402c-acdf-d513f74bc82d",
        "colab": {
          "base_uri": "https://localhost:8080/"
        }
      },
      "execution_count": 13,
      "outputs": [
        {
          "output_type": "stream",
          "name": "stdout",
          "text": [
            "Enter name: Umesh\n",
            "Enter age as of today: 62\n",
            "Hey Umesh! You will turn 100 in the year 2061\n"
          ]
        }
      ]
    },
    {
      "cell_type": "code",
      "source": [],
      "metadata": {
        "id": "5P0g8Xj0ZBBn"
      },
      "execution_count": null,
      "outputs": []
    }
  ],
  "metadata": {
    "kernelspec": {
      "display_name": "Python 2",
      "language": "python",
      "name": "python2"
    },
    "language_info": {
      "codemirror_mode": {
        "name": "ipython",
        "version": 2
      },
      "file_extension": ".py",
      "mimetype": "text/x-python",
      "name": "python",
      "nbconvert_exporter": "python",
      "pygments_lexer": "ipython2",
      "version": "2.7.13"
    },
    "colab": {
      "provenance": [],
      "include_colab_link": true
    }
  },
  "nbformat": 4,
  "nbformat_minor": 0
}