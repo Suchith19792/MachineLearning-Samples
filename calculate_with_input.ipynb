{
  "cells": [
    {
      "cell_type": "markdown",
      "metadata": {
        "id": "view-in-github",
        "colab_type": "text"
      },
      "source": [
        "<a href=\"https://colab.research.google.com/github/Suchith19792/MachineLearning-Samples/blob/master/calculate_with_input.ipynb\" target=\"_parent\"><img src=\"https://colab.research.google.com/assets/colab-badge.svg\" alt=\"Open In Colab\"/></a>"
      ]
    },
    {
      "cell_type": "code",
      "execution_count": null,
      "metadata": {
        "collapsed": true,
        "id": "xvdRcOvrVcwp"
      },
      "outputs": [],
      "source": [
        "# ---------------------------------------------------------------\n",
        "# python best courses https://courses.tanpham.org/\n",
        "# ---------------------------------------------------------------\n",
        "# Write a Python program that accepts an integer (n) and computes the value of n+nn+nnn. Go to the editor\n",
        "# Sample value of n is 5\n",
        "# Expected Result : 615"
      ]
    },
    {
      "cell_type": "code",
      "source": [
        "def comp(n):\n",
        "  return n+(n*10+n)+(n*100+n*10+n)\n",
        "\n",
        "comp(5)"
      ],
      "metadata": {
        "id": "CdAu5yZsVhXM",
        "outputId": "d7d011a8-2ea9-4479-c1fa-9d944b612d1f",
        "colab": {
          "base_uri": "https://localhost:8080/"
        }
      },
      "execution_count": 1,
      "outputs": [
        {
          "output_type": "execute_result",
          "data": {
            "text/plain": [
              "615"
            ]
          },
          "metadata": {},
          "execution_count": 1
        }
      ]
    },
    {
      "cell_type": "code",
      "source": [
        "n = int(input(\"Enter an integer: \"))\n",
        "print(comp(n))"
      ],
      "metadata": {
        "id": "RSs1yaiiWD-Z",
        "outputId": "0f364960-ad93-4d1b-b75c-33a5b21545a7",
        "colab": {
          "base_uri": "https://localhost:8080/"
        }
      },
      "execution_count": 4,
      "outputs": [
        {
          "output_type": "stream",
          "name": "stdout",
          "text": [
            "Enter an integer: 5\n",
            "615\n"
          ]
        }
      ]
    },
    {
      "cell_type": "code",
      "source": [],
      "metadata": {
        "id": "RSimMcONWXKd"
      },
      "execution_count": null,
      "outputs": []
    }
  ],
  "metadata": {
    "kernelspec": {
      "display_name": "Python 2",
      "language": "python",
      "name": "python2"
    },
    "language_info": {
      "codemirror_mode": {
        "name": "ipython",
        "version": 2
      },
      "file_extension": ".py",
      "mimetype": "text/x-python",
      "name": "python",
      "nbconvert_exporter": "python",
      "pygments_lexer": "ipython2",
      "version": "2.7.13"
    },
    "colab": {
      "provenance": [],
      "include_colab_link": true
    }
  },
  "nbformat": 4,
  "nbformat_minor": 0
}