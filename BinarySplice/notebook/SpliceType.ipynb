{
 "cells": [
  {
   "cell_type": "markdown",
   "metadata": {},
   "source": [
    "# Splice type detection using Convolutional Neural Network"
   ]
  },
  {
   "cell_type": "code",
   "execution_count": 80,
   "metadata": {},
   "outputs": [],
   "source": [
    "import numpy as np\n",
    "import pandas as pd\n",
    "from matplotlib import pyplot as plt\n",
    "%matplotlib inline\n",
    "plt.rcParams[\"figure.figsize\"] = [20,15]"
   ]
  },
  {
   "cell_type": "code",
   "execution_count": 2,
   "metadata": {},
   "outputs": [],
   "source": [
    "fname = '../rawdata/splice.data'\n",
    "with open(fname) as f:\n",
    "    content = f.readlines()\n",
    "content = [x.strip().split(',') for x in content]"
   ]
  },
  {
   "cell_type": "code",
   "execution_count": 4,
   "metadata": {},
   "outputs": [],
   "source": [
    "for l in content:\n",
    "    for i in range(len(l)):\n",
    "        l[i]=l[i].strip()\n",
    "raw_data = np.array(content)"
   ]
  },
  {
   "cell_type": "code",
   "execution_count": 19,
   "metadata": {},
   "outputs": [
    {
     "data": {
      "text/plain": [
       "(3190, 3)"
      ]
     },
     "execution_count": 19,
     "metadata": {},
     "output_type": "execute_result"
    }
   ],
   "source": [
    "raw_data.shape"
   ]
  },
  {
   "cell_type": "code",
   "execution_count": 68,
   "metadata": {},
   "outputs": [
    {
     "data": {
      "text/plain": [
       "array([['EI', 'ATRINS-DONOR-521',\n",
       "        'CCAGCTGCATCACAGGAGGCCAGCGAGCAGGTCTGTTCCAAGGGCCTTCGAGCCAGTCTG'],\n",
       "       ['EI', 'ATRINS-DONOR-905',\n",
       "        'AGACCCGCCGGGAGGCGGAGGACCTGCAGGGTGAGCCCCACCGCCCCTCCGTGCCCCCGC'],\n",
       "       ['EI', 'BABAPOE-DONOR-30',\n",
       "        'GAGGTGAAGGACGTCCTTCCCCAGGAGCCGGTGAGAAGCGCAGTCGGGGGCACGGGGATG'],\n",
       "       ['EI', 'BABAPOE-DONOR-867',\n",
       "        'GGGCTGCGTTGCTGGTCACATTCCTGGCAGGTATGGGGCGGGGCTTGCTCGGTTTTCCCC'],\n",
       "       ['EI', 'BABAPOE-DONOR-2817',\n",
       "        'GCTCAGCCCCCAGGTCACCCAGGAACTGACGTGAGTGTCCCCATCCCGGCCCTTGACCCT']],\n",
       "      dtype='<U60')"
      ]
     },
     "execution_count": 68,
     "metadata": {},
     "output_type": "execute_result"
    }
   ],
   "source": [
    "raw_data[0:5]"
   ]
  },
  {
   "cell_type": "code",
   "execution_count": 54,
   "metadata": {},
   "outputs": [],
   "source": [
    "def getInstanceFromRow(row):\n",
    "    onehot = np.zeros((1,3))\n",
    "    label = row[0]\n",
    "    if label == 'EI':\n",
    "        onehot[0][0] = 1\n",
    "    elif label == 'IE':\n",
    "        onehot[0][1] = 1\n",
    "    else:\n",
    "        onehot[0][2] = 1\n",
    "    orth = np.zeros((len(row[2]),4))\n",
    "    for i in range(len(row[2])):\n",
    "        c = row[2][i]\n",
    "        if c == 'A':\n",
    "            orth[i][0] = 1\n",
    "        elif c == 'C':\n",
    "            orth[i][1] = 1\n",
    "        elif c == 'G':\n",
    "            orth[i][2] = 1\n",
    "        elif c == 'T':\n",
    "            orth[i][3] = 1\n",
    "    return orth, onehot"
   ]
  },
  {
   "cell_type": "code",
   "execution_count": 55,
   "metadata": {},
   "outputs": [],
   "source": [
    "x = []\n",
    "y = []\n",
    "for i in range(raw_data.shape[0]):\n",
    "    xi,yi=getInstanceFromRow(raw_data[i])\n",
    "    x.append(xi)\n",
    "    y.append(yi)\n",
    "x = np.array(x)\n",
    "y = np.array(y)"
   ]
  },
  {
   "cell_type": "code",
   "execution_count": 56,
   "metadata": {},
   "outputs": [],
   "source": [
    "shuffle_indices = np.random.permutation(len(x))\n",
    "x = x[shuffle_indices]\n",
    "y = y[shuffle_indices]"
   ]
  },
  {
   "cell_type": "code",
   "execution_count": 57,
   "metadata": {},
   "outputs": [
    {
     "data": {
      "text/plain": [
       "(3190, 60, 4)"
      ]
     },
     "execution_count": 57,
     "metadata": {},
     "output_type": "execute_result"
    }
   ],
   "source": [
    "x.shape"
   ]
  },
  {
   "cell_type": "code",
   "execution_count": 58,
   "metadata": {},
   "outputs": [
    {
     "data": {
      "text/plain": [
       "(3190, 4, 60)"
      ]
     },
     "execution_count": 58,
     "metadata": {},
     "output_type": "execute_result"
    }
   ],
   "source": [
    "x = np.swapaxes(x,1,2)\n",
    "x.shape"
   ]
  },
  {
   "cell_type": "code",
   "execution_count": 64,
   "metadata": {},
   "outputs": [
    {
     "data": {
      "text/plain": [
       "(3190, 1, 3)"
      ]
     },
     "execution_count": 64,
     "metadata": {},
     "output_type": "execute_result"
    }
   ],
   "source": [
    "y.shape"
   ]
  },
  {
   "cell_type": "code",
   "execution_count": 65,
   "metadata": {},
   "outputs": [
    {
     "data": {
      "text/plain": [
       "array([[0., 0., 1.]])"
      ]
     },
     "execution_count": 65,
     "metadata": {},
     "output_type": "execute_result"
    }
   ],
   "source": [
    "y[0]"
   ]
  },
  {
   "cell_type": "code",
   "execution_count": 59,
   "metadata": {},
   "outputs": [
    {
     "data": {
      "text/plain": [
       "array([[0., 0., 0., 1., 0., 0., 1., 0., 0., 1., 0., 0., 0., 0., 0., 0.,\n",
       "        0., 0., 0., 0., 1., 0., 0., 0., 1., 0., 0., 0., 0., 0., 0., 0.,\n",
       "        0., 0., 0., 0., 0., 0., 0., 0., 0., 0., 0., 0., 0., 0., 0., 0.,\n",
       "        0., 0., 0., 0., 0., 0., 1., 0., 0., 0., 0., 1.],\n",
       "       [0., 1., 0., 0., 1., 1., 0., 1., 1., 0., 0., 0., 1., 0., 0., 0.,\n",
       "        1., 1., 0., 1., 0., 0., 0., 0., 0., 0., 0., 1., 0., 0., 1., 0.,\n",
       "        0., 0., 0., 0., 0., 1., 1., 0., 0., 0., 1., 0., 0., 0., 0., 1.,\n",
       "        0., 0., 1., 1., 0., 0., 0., 1., 0., 0., 0., 0.],\n",
       "       [1., 0., 0., 0., 0., 0., 0., 0., 0., 0., 0., 1., 0., 0., 1., 1.,\n",
       "        0., 0., 0., 0., 0., 1., 1., 1., 0., 0., 1., 0., 0., 0., 0., 0.,\n",
       "        1., 1., 0., 1., 1., 0., 0., 0., 0., 1., 0., 0., 1., 1., 0., 0.,\n",
       "        0., 1., 0., 0., 0., 1., 0., 0., 0., 1., 0., 0.],\n",
       "       [0., 0., 1., 0., 0., 0., 0., 0., 0., 0., 1., 0., 0., 1., 0., 0.,\n",
       "        0., 0., 1., 0., 0., 0., 0., 0., 0., 1., 0., 0., 1., 1., 0., 1.,\n",
       "        0., 0., 1., 0., 0., 0., 0., 1., 1., 0., 0., 1., 0., 0., 1., 0.,\n",
       "        1., 0., 0., 0., 1., 0., 0., 0., 1., 0., 1., 0.]])"
      ]
     },
     "execution_count": 59,
     "metadata": {},
     "output_type": "execute_result"
    }
   ],
   "source": [
    "x[0]"
   ]
  },
  {
   "cell_type": "code",
   "execution_count": 60,
   "metadata": {},
   "outputs": [],
   "source": [
    "from keras.models import Sequential\n",
    "from keras.layers import Dense, Activation, Conv1D, Dropout, MaxPooling1D\n",
    "from keras import backend as K\n",
    "K.set_learning_phase(True)"
   ]
  },
  {
   "cell_type": "code",
   "execution_count": 61,
   "metadata": {},
   "outputs": [],
   "source": [
    "model = Sequential()\n",
    "model.add(Conv1D(8, 3, input_shape=(None, 60), padding='same', name='conv1'))\n",
    "model.add(Activation('relu'))\n",
    "model.add(MaxPooling1D())\n",
    "model.add(Conv1D(16, 3, padding='same', name='conv2'))\n",
    "model.add(Activation('relu'))\n",
    "model.add(MaxPooling1D())\n",
    "model.add(Dense(3, name='fc1'))\n",
    "model.add(Dropout(0.5))\n",
    "model.add(Activation('softmax'))"
   ]
  },
  {
   "cell_type": "code",
   "execution_count": 62,
   "metadata": {},
   "outputs": [],
   "source": [
    "model.compile(optimizer='adam',\n",
    "              loss='categorical_crossentropy',\n",
    "              metrics=['accuracy'])"
   ]
  },
  {
   "cell_type": "code",
   "execution_count": 63,
   "metadata": {},
   "outputs": [
    {
     "name": "stdout",
     "output_type": "stream",
     "text": [
      "Train on 2871 samples, validate on 319 samples\n",
      "Epoch 1/30\n",
      "2871/2871 [==============================] - 3s 939us/step - loss: 1.0702 - acc: 0.3870 - val_loss: 1.0381 - val_acc: 0.4013\n",
      "Epoch 2/30\n",
      "2871/2871 [==============================] - 1s 179us/step - loss: 0.9692 - acc: 0.4587 - val_loss: 0.9200 - val_acc: 0.4922\n",
      "Epoch 3/30\n",
      "2871/2871 [==============================] - 1s 407us/step - loss: 0.7971 - acc: 0.5705 - val_loss: 0.7069 - val_acc: 0.6426\n",
      "Epoch 4/30\n",
      "2871/2871 [==============================] - 1s 375us/step - loss: 0.6375 - acc: 0.6468 - val_loss: 0.6012 - val_acc: 0.6677\n",
      "Epoch 5/30\n",
      "2871/2871 [==============================] - 1s 305us/step - loss: 0.5327 - acc: 0.6855 - val_loss: 0.5060 - val_acc: 0.6991\n",
      "Epoch 6/30\n",
      "2871/2871 [==============================] - 1s 302us/step - loss: 0.4832 - acc: 0.6987 - val_loss: 0.5100 - val_acc: 0.6897\n",
      "Epoch 7/30\n",
      "2871/2871 [==============================] - 1s 332us/step - loss: 0.4533 - acc: 0.6991 - val_loss: 0.4625 - val_acc: 0.7053\n",
      "Epoch 8/30\n",
      "2871/2871 [==============================] - 1s 180us/step - loss: 0.4138 - acc: 0.7290 - val_loss: 0.4674 - val_acc: 0.7085\n",
      "Epoch 9/30\n",
      "2871/2871 [==============================] - 1s 189us/step - loss: 0.4142 - acc: 0.7262 - val_loss: 0.5079 - val_acc: 0.6677\n",
      "Epoch 10/30\n",
      "2871/2871 [==============================] - 1s 346us/step - loss: 0.3896 - acc: 0.7335 - val_loss: 0.4614 - val_acc: 0.7116\n",
      "Epoch 11/30\n",
      "2871/2871 [==============================] - 1s 216us/step - loss: 0.3879 - acc: 0.7266 - val_loss: 0.4723 - val_acc: 0.6771\n",
      "Epoch 12/30\n",
      "2871/2871 [==============================] - 0s 171us/step - loss: 0.3736 - acc: 0.7325 - val_loss: 0.4694 - val_acc: 0.6991\n",
      "Epoch 13/30\n",
      "2871/2871 [==============================] - 1s 230us/step - loss: 0.3737 - acc: 0.7315 - val_loss: 0.4934 - val_acc: 0.6614\n",
      "Epoch 14/30\n",
      "2871/2871 [==============================] - 1s 228us/step - loss: 0.3798 - acc: 0.7217 - val_loss: 0.4475 - val_acc: 0.7116\n",
      "Epoch 15/30\n",
      "2871/2871 [==============================] - 1s 179us/step - loss: 0.3653 - acc: 0.7374 - val_loss: 0.4286 - val_acc: 0.6991\n",
      "Epoch 16/30\n",
      "2871/2871 [==============================] - 1s 276us/step - loss: 0.3581 - acc: 0.7360 - val_loss: 0.4494 - val_acc: 0.7304\n",
      "Epoch 17/30\n",
      "2871/2871 [==============================] - 1s 231us/step - loss: 0.3512 - acc: 0.7447 - val_loss: 0.4260 - val_acc: 0.6959\n",
      "Epoch 18/30\n",
      "2871/2871 [==============================] - 1s 187us/step - loss: 0.3610 - acc: 0.7384 - val_loss: 0.5046 - val_acc: 0.6614\n",
      "Epoch 19/30\n",
      "2871/2871 [==============================] - 1s 194us/step - loss: 0.3454 - acc: 0.7482 - val_loss: 0.4310 - val_acc: 0.7179\n",
      "Epoch 20/30\n",
      "2871/2871 [==============================] - 1s 241us/step - loss: 0.3610 - acc: 0.7391 - val_loss: 0.4510 - val_acc: 0.7273\n",
      "Epoch 21/30\n",
      "2871/2871 [==============================] - 1s 222us/step - loss: 0.3387 - acc: 0.7367 - val_loss: 0.4585 - val_acc: 0.6991\n",
      "Epoch 22/30\n",
      "2871/2871 [==============================] - 1s 201us/step - loss: 0.3484 - acc: 0.7328 - val_loss: 0.4106 - val_acc: 0.7304\n",
      "Epoch 23/30\n",
      "2871/2871 [==============================] - 1s 268us/step - loss: 0.3380 - acc: 0.7450 - val_loss: 0.3983 - val_acc: 0.7022\n",
      "Epoch 24/30\n",
      "2871/2871 [==============================] - 1s 287us/step - loss: 0.3234 - acc: 0.7579 - val_loss: 0.4723 - val_acc: 0.7179\n",
      "Epoch 25/30\n",
      "2871/2871 [==============================] - 1s 368us/step - loss: 0.3409 - acc: 0.7395 - val_loss: 0.4557 - val_acc: 0.6740\n",
      "Epoch 26/30\n",
      "2871/2871 [==============================] - 1s 362us/step - loss: 0.3335 - acc: 0.7482 - val_loss: 0.4252 - val_acc: 0.6771\n",
      "Epoch 27/30\n",
      "2871/2871 [==============================] - 1s 348us/step - loss: 0.3443 - acc: 0.7374 - val_loss: 0.4776 - val_acc: 0.7210\n",
      "Epoch 28/30\n",
      "2871/2871 [==============================] - 1s 252us/step - loss: 0.3385 - acc: 0.7412 - val_loss: 0.5059 - val_acc: 0.6959\n",
      "Epoch 29/30\n",
      "2871/2871 [==============================] - 1s 388us/step - loss: 0.3303 - acc: 0.7433 - val_loss: 0.5252 - val_acc: 0.6803\n",
      "Epoch 30/30\n",
      "2871/2871 [==============================] - 1s 357us/step - loss: 0.3302 - acc: 0.7454 - val_loss: 0.4797 - val_acc: 0.6803\n"
     ]
    }
   ],
   "source": [
    "model.fit(x, y, epochs=30, batch_size=32, validation_split=0.1, shuffle=True)\n",
    "K.set_learning_phase(False)"
   ]
  },
  {
   "cell_type": "markdown",
   "metadata": {},
   "source": [
    "# Splice junction detection using NLP and NB"
   ]
  },
  {
   "cell_type": "code",
   "execution_count": 66,
   "metadata": {},
   "outputs": [
    {
     "data": {
      "text/plain": [
       "(3190, 3)"
      ]
     },
     "execution_count": 66,
     "metadata": {},
     "output_type": "execute_result"
    }
   ],
   "source": [
    "raw_data.shape"
   ]
  },
  {
   "cell_type": "code",
   "execution_count": 71,
   "metadata": {},
   "outputs": [
    {
     "data": {
      "text/html": [
       "<div>\n",
       "<style scoped>\n",
       "    .dataframe tbody tr th:only-of-type {\n",
       "        vertical-align: middle;\n",
       "    }\n",
       "\n",
       "    .dataframe tbody tr th {\n",
       "        vertical-align: top;\n",
       "    }\n",
       "\n",
       "    .dataframe thead th {\n",
       "        text-align: right;\n",
       "    }\n",
       "</style>\n",
       "<table border=\"1\" class=\"dataframe\">\n",
       "  <thead>\n",
       "    <tr style=\"text-align: right;\">\n",
       "      <th></th>\n",
       "      <th>class</th>\n",
       "      <th>name</th>\n",
       "      <th>sequence</th>\n",
       "    </tr>\n",
       "  </thead>\n",
       "  <tbody>\n",
       "    <tr>\n",
       "      <th>0</th>\n",
       "      <td>EI</td>\n",
       "      <td>ATRINS-DONOR-521</td>\n",
       "      <td>CCAGCTGCATCACAGGAGGCCAGCGAGCAGGTCTGTTCCAAGGGCC...</td>\n",
       "    </tr>\n",
       "    <tr>\n",
       "      <th>1</th>\n",
       "      <td>EI</td>\n",
       "      <td>ATRINS-DONOR-905</td>\n",
       "      <td>AGACCCGCCGGGAGGCGGAGGACCTGCAGGGTGAGCCCCACCGCCC...</td>\n",
       "    </tr>\n",
       "    <tr>\n",
       "      <th>2</th>\n",
       "      <td>EI</td>\n",
       "      <td>BABAPOE-DONOR-30</td>\n",
       "      <td>GAGGTGAAGGACGTCCTTCCCCAGGAGCCGGTGAGAAGCGCAGTCG...</td>\n",
       "    </tr>\n",
       "    <tr>\n",
       "      <th>3</th>\n",
       "      <td>EI</td>\n",
       "      <td>BABAPOE-DONOR-867</td>\n",
       "      <td>GGGCTGCGTTGCTGGTCACATTCCTGGCAGGTATGGGGCGGGGCTT...</td>\n",
       "    </tr>\n",
       "    <tr>\n",
       "      <th>4</th>\n",
       "      <td>EI</td>\n",
       "      <td>BABAPOE-DONOR-2817</td>\n",
       "      <td>GCTCAGCCCCCAGGTCACCCAGGAACTGACGTGAGTGTCCCCATCC...</td>\n",
       "    </tr>\n",
       "  </tbody>\n",
       "</table>\n",
       "</div>"
      ],
      "text/plain": [
       "  class                name                                           sequence\n",
       "0    EI    ATRINS-DONOR-521  CCAGCTGCATCACAGGAGGCCAGCGAGCAGGTCTGTTCCAAGGGCC...\n",
       "1    EI    ATRINS-DONOR-905  AGACCCGCCGGGAGGCGGAGGACCTGCAGGGTGAGCCCCACCGCCC...\n",
       "2    EI    BABAPOE-DONOR-30  GAGGTGAAGGACGTCCTTCCCCAGGAGCCGGTGAGAAGCGCAGTCG...\n",
       "3    EI   BABAPOE-DONOR-867  GGGCTGCGTTGCTGGTCACATTCCTGGCAGGTATGGGGCGGGGCTT...\n",
       "4    EI  BABAPOE-DONOR-2817  GCTCAGCCCCCAGGTCACCCAGGAACTGACGTGAGTGTCCCCATCC..."
      ]
     },
     "execution_count": 71,
     "metadata": {},
     "output_type": "execute_result"
    }
   ],
   "source": [
    "df = pd.DataFrame(data=raw_data,columns=['class','name','sequence'])\n",
    "df.head()"
   ]
  },
  {
   "cell_type": "code",
   "execution_count": 72,
   "metadata": {},
   "outputs": [
    {
     "data": {
      "text/html": [
       "<div>\n",
       "<style scoped>\n",
       "    .dataframe tbody tr th:only-of-type {\n",
       "        vertical-align: middle;\n",
       "    }\n",
       "\n",
       "    .dataframe tbody tr th {\n",
       "        vertical-align: top;\n",
       "    }\n",
       "\n",
       "    .dataframe thead th {\n",
       "        text-align: right;\n",
       "    }\n",
       "</style>\n",
       "<table border=\"1\" class=\"dataframe\">\n",
       "  <thead>\n",
       "    <tr style=\"text-align: right;\">\n",
       "      <th></th>\n",
       "      <th>class</th>\n",
       "      <th>name</th>\n",
       "      <th>sequence</th>\n",
       "      <th>hexamers</th>\n",
       "    </tr>\n",
       "  </thead>\n",
       "  <tbody>\n",
       "    <tr>\n",
       "      <th>0</th>\n",
       "      <td>EI</td>\n",
       "      <td>ATRINS-DONOR-521</td>\n",
       "      <td>CCAGCTGCATCACAGGAGGCCAGCGAGCAGGTCTGTTCCAAGGGCC...</td>\n",
       "      <td>[ccagct, cagctg, agctgc, gctgca, ctgcat, tgcat...</td>\n",
       "    </tr>\n",
       "    <tr>\n",
       "      <th>1</th>\n",
       "      <td>EI</td>\n",
       "      <td>ATRINS-DONOR-905</td>\n",
       "      <td>AGACCCGCCGGGAGGCGGAGGACCTGCAGGGTGAGCCCCACCGCCC...</td>\n",
       "      <td>[agaccc, gacccg, acccgc, cccgcc, ccgccg, cgccg...</td>\n",
       "    </tr>\n",
       "    <tr>\n",
       "      <th>2</th>\n",
       "      <td>EI</td>\n",
       "      <td>BABAPOE-DONOR-30</td>\n",
       "      <td>GAGGTGAAGGACGTCCTTCCCCAGGAGCCGGTGAGAAGCGCAGTCG...</td>\n",
       "      <td>[gaggtg, aggtga, ggtgaa, gtgaag, tgaagg, gaagg...</td>\n",
       "    </tr>\n",
       "    <tr>\n",
       "      <th>3</th>\n",
       "      <td>EI</td>\n",
       "      <td>BABAPOE-DONOR-867</td>\n",
       "      <td>GGGCTGCGTTGCTGGTCACATTCCTGGCAGGTATGGGGCGGGGCTT...</td>\n",
       "      <td>[gggctg, ggctgc, gctgcg, ctgcgt, tgcgtt, gcgtt...</td>\n",
       "    </tr>\n",
       "    <tr>\n",
       "      <th>4</th>\n",
       "      <td>EI</td>\n",
       "      <td>BABAPOE-DONOR-2817</td>\n",
       "      <td>GCTCAGCCCCCAGGTCACCCAGGAACTGACGTGAGTGTCCCCATCC...</td>\n",
       "      <td>[gctcag, ctcagc, tcagcc, cagccc, agcccc, gcccc...</td>\n",
       "    </tr>\n",
       "  </tbody>\n",
       "</table>\n",
       "</div>"
      ],
      "text/plain": [
       "  class                name  \\\n",
       "0    EI    ATRINS-DONOR-521   \n",
       "1    EI    ATRINS-DONOR-905   \n",
       "2    EI    BABAPOE-DONOR-30   \n",
       "3    EI   BABAPOE-DONOR-867   \n",
       "4    EI  BABAPOE-DONOR-2817   \n",
       "\n",
       "                                            sequence  \\\n",
       "0  CCAGCTGCATCACAGGAGGCCAGCGAGCAGGTCTGTTCCAAGGGCC...   \n",
       "1  AGACCCGCCGGGAGGCGGAGGACCTGCAGGGTGAGCCCCACCGCCC...   \n",
       "2  GAGGTGAAGGACGTCCTTCCCCAGGAGCCGGTGAGAAGCGCAGTCG...   \n",
       "3  GGGCTGCGTTGCTGGTCACATTCCTGGCAGGTATGGGGCGGGGCTT...   \n",
       "4  GCTCAGCCCCCAGGTCACCCAGGAACTGACGTGAGTGTCCCCATCC...   \n",
       "\n",
       "                                            hexamers  \n",
       "0  [ccagct, cagctg, agctgc, gctgca, ctgcat, tgcat...  \n",
       "1  [agaccc, gacccg, acccgc, cccgcc, ccgccg, cgccg...  \n",
       "2  [gaggtg, aggtga, ggtgaa, gtgaag, tgaagg, gaagg...  \n",
       "3  [gggctg, ggctgc, gctgcg, ctgcgt, tgcgtt, gcgtt...  \n",
       "4  [gctcag, ctcagc, tcagcc, cagccc, agcccc, gcccc...  "
      ]
     },
     "execution_count": 72,
     "metadata": {},
     "output_type": "execute_result"
    }
   ],
   "source": [
    "def getKmers(sequence,size=6):\n",
    "    return [sequence[x:x+size].lower() for x in range(len(sequence)-size+1)]\n",
    "df['hexamers'] = df.apply(lambda x: getKmers(x['sequence']),axis=1)\n",
    "df.head()"
   ]
  },
  {
   "cell_type": "code",
   "execution_count": 73,
   "metadata": {},
   "outputs": [],
   "source": [
    "dna_texts = list(df['hexamers'])\n",
    "for i in range(len(dna_texts)):\n",
    "    dna_texts[i] = ' '.join(dna_texts[i])\n",
    "y = df.iloc[:,0].values"
   ]
  },
  {
   "cell_type": "code",
   "execution_count": 77,
   "metadata": {},
   "outputs": [
    {
     "data": {
      "text/plain": [
       "'ccagct cagctg agctgc gctgca ctgcat tgcatc gcatca catcac atcaca tcacag cacagg acagga caggag aggagg ggaggc gaggcc aggcca ggccag gccagc ccagcg cagcga agcgag gcgagc cgagca gagcag agcagg gcaggt caggtc aggtct ggtctg gtctgt tctgtt ctgttc tgttcc gttcca ttccaa tccaag ccaagg caaggg aagggc agggcc gggcct ggcctt gccttc ccttcg cttcga ttcgag tcgagc cgagcc gagcca agccag gccagt ccagtc cagtct agtctg'"
      ]
     },
     "execution_count": 77,
     "metadata": {},
     "output_type": "execute_result"
    }
   ],
   "source": [
    "dna_texts[0]"
   ]
  },
  {
   "cell_type": "code",
   "execution_count": 78,
   "metadata": {},
   "outputs": [
    {
     "data": {
      "text/plain": [
       "(3190, 92874)"
      ]
     },
     "execution_count": 78,
     "metadata": {},
     "output_type": "execute_result"
    }
   ],
   "source": [
    "# Create Bag of words model using CountVectoriser()\n",
    "# Explore on optimal choice for n-gram. For now, i'm choosing n-gram = 4\n",
    "from sklearn.feature_extraction.text import CountVectorizer\n",
    "cv = CountVectorizer(ngram_range=(4,4))\n",
    "X = cv.fit_transform(dna_texts)\n",
    "X.shape"
   ]
  },
  {
   "cell_type": "code",
   "execution_count": 81,
   "metadata": {},
   "outputs": [
    {
     "data": {
      "image/png": "[encoded data removed]",
      "text/plain": [
       "<Figure size 1440x1080 with 1 Axes>"
      ]
     },
     "metadata": {
      "needs_background": "light"
     },
     "output_type": "display_data"
    }
   ],
   "source": [
    "df['class'].value_counts().sort_index().plot.bar();"
   ]
  },
  {
   "cell_type": "code",
   "execution_count": 85,
   "metadata": {},
   "outputs": [
    {
     "data": {
      "text/plain": [
       "MultinomialNB(alpha=0.1, class_prior=None, fit_prior=True)"
      ]
     },
     "execution_count": 85,
     "metadata": {},
     "output_type": "execute_result"
    }
   ],
   "source": [
    "#Performing Classification on the created bag of words data\n",
    "\n",
    "#test train splitting\n",
    "from sklearn.model_selection import train_test_split\n",
    "X_train,X_test,y_train,y_test=train_test_split(X,y,test_size=0.2,random_state=42)\n",
    "\n",
    "#modelling\n",
    "from sklearn.naive_bayes import MultinomialNB\n",
    "clf=MultinomialNB(alpha=0.1)\n",
    "clf.fit(X_train,y_train)"
   ]
  },
  {
   "cell_type": "code",
   "execution_count": 86,
   "metadata": {},
   "outputs": [],
   "source": [
    "y_pred = clf.predict(X_test)"
   ]
  },
  {
   "cell_type": "code",
   "execution_count": 90,
   "metadata": {},
   "outputs": [
    {
     "name": "stdout",
     "output_type": "stream",
     "text": [
      "Confusion metrics\n",
      "\n",
      "Predicted   EI   IE   N\n",
      "Actual                 \n",
      "EI         145   22  12\n",
      "IE          16  111  13\n",
      "N          118  119  82\n",
      "accuracy = 0.530 \n",
      "f1 = 0.494 \n",
      "precision=0.626 \n",
      "recall=0.530\n"
     ]
    }
   ],
   "source": [
    "#Performance/accuracy testing\n",
    "from sklearn.metrics import accuracy_score,f1_score,precision_score,recall_score\n",
    "print(\"Confusion metrics\\n\")\n",
    "print(pd.crosstab(pd.Series(y_test,name='Actual'),pd.Series(y_pred,name='Predicted')))\n",
    "def get_metrics(y_test,y_pred):\n",
    "    accuracy = accuracy_score(y_test,y_pred)\n",
    "    f1 = f1_score(y_test,y_pred,average='weighted')\n",
    "    precision = precision_score(y_test,y_pred,average='weighted')\n",
    "    recall = recall_score(y_test,y_pred,average='weighted')\n",
    "    return accuracy, f1, precision, recall\n",
    "accuracy, f1, precision, recall = get_metrics(y_test,y_pred)\n",
    "print(\"accuracy = %.3f \\nf1 = %.3f \\nprecision=%.3f \\nrecall=%.3f\" %(accuracy,f1,precision,recall))"
   ]
  },
  {
   "cell_type": "code",
   "execution_count": null,
   "metadata": {},
   "outputs": [],
   "source": []
  }
 ],
 "metadata": {
  "kernelspec": {
   "display_name": "Python 3",
   "language": "python",
   "name": "python3"
  },
  "language_info": {
   "codemirror_mode": {
    "name": "ipython",
    "version": 3
   },
   "file_extension": ".py",
   "mimetype": "text/x-python",
   "name": "python",
   "nbconvert_exporter": "python",
   "pygments_lexer": "ipython3",
   "version": "3.7.3"
  }
 },
 "nbformat": 4,
 "nbformat_minor": 2
}
