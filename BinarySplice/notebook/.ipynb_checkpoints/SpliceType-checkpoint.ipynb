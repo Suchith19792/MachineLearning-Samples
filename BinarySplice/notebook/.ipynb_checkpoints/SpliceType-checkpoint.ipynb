{
 "cells": [
  {
   "cell_type": "markdown",
   "metadata": {},
   "source": [
    "# Splice type detection using Convolutional Neural Network"
   ]
  },
  {
   "cell_type": "code",
   "execution_count": 1,
   "metadata": {},
   "outputs": [],
   "source": [
    "import numpy as np"
   ]
  },
  {
   "cell_type": "code",
   "execution_count": 2,
   "metadata": {},
   "outputs": [],
   "source": [
    "fname = '../rawdata/splice.data'\n",
    "with open(fname) as f:\n",
    "    content = f.readlines()\n",
    "content = [x.strip().split(',') for x in content]"
   ]
  },
  {
   "cell_type": "code",
   "execution_count": 4,
   "metadata": {},
   "outputs": [],
   "source": [
    "for l in content:\n",
    "    for i in range(len(l)):\n",
    "        l[i]=l[i].strip()\n",
    "raw_data = np.array(content)"
   ]
  },
  {
   "cell_type": "code",
   "execution_count": 19,
   "metadata": {},
   "outputs": [
    {
     "data": {
      "text/plain": [
       "(3190, 3)"
      ]
     },
     "execution_count": 19,
     "metadata": {},
     "output_type": "execute_result"
    }
   ],
   "source": [
    "raw_data.shape"
   ]
  },
  {
   "cell_type": "code",
   "execution_count": 14,
   "metadata": {},
   "outputs": [
    {
     "name": "stdout",
     "output_type": "stream",
     "text": [
      "3190 3\n"
     ]
    }
   ],
   "source": [
    "print(len(content),len(content[0]))"
   ]
  },
  {
   "cell_type": "code",
   "execution_count": 44,
   "metadata": {},
   "outputs": [],
   "source": [
    "def getInstanceFromRow(row):\n",
    "    onehot = np.zeros((1,3))\n",
    "    label = row[0]\n",
    "    if label == 'EI':\n",
    "        onehot[0][0] = 1\n",
    "    elif label == 'IE':\n",
    "        onehot[0][1] = 1\n",
    "    else:\n",
    "        onehot[0][2] = 1\n",
    "    orth = np.zeros((len(row[2]),4))\n",
    "    for i in range(len(row[2])):\n",
    "        c = row[2][i]\n",
    "        if c == 'A':\n",
    "            orth[i][0] = 1\n",
    "        elif c == 'C':\n",
    "            orth[i][1] = 1\n",
    "        elif c == 'G':\n",
    "            orth[i][2] = 1\n",
    "        elif c == 'T':\n",
    "            orth[i][3] = 1\n",
    "    return orth, onehot"
   ]
  },
  {
   "cell_type": "code",
   "execution_count": 45,
   "metadata": {},
   "outputs": [],
   "source": [
    "x = []\n",
    "y = []\n",
    "for i in range(raw_data.shape[0]):\n",
    "    xi,yi=getInstanceFromRow(raw_data[i])\n",
    "    x.append(xi)\n",
    "    y.append(yi)\n",
    "x = np.array(x)\n",
    "y = np.array(y)"
   ]
  },
  {
   "cell_type": "code",
   "execution_count": 46,
   "metadata": {},
   "outputs": [],
   "source": [
    "shuffle_indices = np.random.permutation(len(x))\n",
    "x = x[shuffle_indices]\n",
    "y = y[shuffle_indices]"
   ]
  },
  {
   "cell_type": "code",
   "execution_count": 47,
   "metadata": {},
   "outputs": [
    {
     "data": {
      "text/plain": [
       "(3190, 60, 4)"
      ]
     },
     "execution_count": 47,
     "metadata": {},
     "output_type": "execute_result"
    }
   ],
   "source": [
    "x.shape"
   ]
  },
  {
   "cell_type": "code",
   "execution_count": 48,
   "metadata": {},
   "outputs": [
    {
     "data": {
      "text/plain": [
       "(3190, 4, 60)"
      ]
     },
     "execution_count": 48,
     "metadata": {},
     "output_type": "execute_result"
    }
   ],
   "source": [
    "x = np.swapaxes(x,1,2)\n",
    "x.shape"
   ]
  },
  {
   "cell_type": "code",
   "execution_count": 49,
   "metadata": {},
   "outputs": [
    {
     "data": {
      "text/plain": [
       "array([[0., 0., 0., 0., 0., 1., 0., 0., 0., 0., 0., 0., 0., 0., 0., 0.,\n",
       "        0., 0., 0., 0., 0., 0., 0., 0., 0., 1., 0., 0., 1., 0., 0., 0.,\n",
       "        0., 0., 1., 0., 1., 0., 1., 1., 1., 0., 0., 0., 0., 1., 1., 0.,\n",
       "        0., 0., 0., 1., 0., 0., 1., 0., 1., 0., 0., 0.],\n",
       "       [1., 1., 0., 0., 0., 0., 1., 0., 0., 0., 1., 0., 0., 0., 1., 1.,\n",
       "        0., 1., 0., 0., 1., 1., 1., 1., 1., 0., 1., 1., 0., 0., 1., 0.,\n",
       "        0., 0., 0., 0., 0., 0., 0., 0., 0., 0., 0., 1., 1., 0., 0., 0.,\n",
       "        1., 0., 0., 0., 1., 1., 0., 0., 0., 0., 1., 0.],\n",
       "       [0., 0., 0., 1., 1., 0., 0., 0., 0., 0., 0., 0., 0., 1., 0., 0.,\n",
       "        0., 0., 0., 0., 0., 0., 0., 0., 0., 0., 0., 0., 0., 1., 0., 0.,\n",
       "        1., 1., 0., 1., 0., 1., 0., 0., 0., 1., 1., 0., 0., 0., 0., 1.,\n",
       "        0., 1., 1., 0., 0., 0., 0., 1., 0., 1., 0., 0.],\n",
       "       [0., 0., 1., 0., 0., 0., 0., 1., 1., 1., 0., 1., 1., 0., 0., 0.,\n",
       "        1., 0., 1., 1., 0., 0., 0., 0., 0., 0., 0., 0., 0., 0., 0., 1.,\n",
       "        0., 0., 0., 0., 0., 0., 0., 0., 0., 0., 0., 0., 0., 0., 0., 0.,\n",
       "        0., 0., 0., 0., 0., 0., 0., 0., 0., 0., 0., 1.]])"
      ]
     },
     "execution_count": 49,
     "metadata": {},
     "output_type": "execute_result"
    }
   ],
   "source": [
    "x[0]"
   ]
  },
  {
   "cell_type": "code",
   "execution_count": 50,
   "metadata": {},
   "outputs": [],
   "source": [
    "from keras.models import Sequential\n",
    "from keras.layers import Dense, Activation, Conv1D, Dropout, MaxPooling1D\n",
    "from keras import backend as K\n",
    "K.set_learning_phase(True)"
   ]
  },
  {
   "cell_type": "code",
   "execution_count": 51,
   "metadata": {},
   "outputs": [],
   "source": [
    "model = Sequential()\n",
    "model.add(Conv1D(8, 3, input_shape=(None, 60), padding='same', name='conv1'))\n",
    "model.add(Activation('relu'))\n",
    "model.add(MaxPooling1D())\n",
    "model.add(Conv1D(16, 3, padding='same', name='conv2'))\n",
    "model.add(Activation('relu'))\n",
    "model.add(MaxPooling1D())\n",
    "model.add(Dense(3, name='fc1'))\n",
    "model.add(Dropout(0.5))\n",
    "model.add(Activation('softmax'))"
   ]
  },
  {
   "cell_type": "code",
   "execution_count": 52,
   "metadata": {},
   "outputs": [],
   "source": [
    "model.compile(optimizer='adam',\n",
    "              loss='categorical_crossentropy',\n",
    "              metrics=['accuracy'])"
   ]
  },
  {
   "cell_type": "code",
   "execution_count": 53,
   "metadata": {},
   "outputs": [
    {
     "name": "stdout",
     "output_type": "stream",
     "text": [
      "WARNING:tensorflow:From C:\\ProgramData\\Anaconda3\\lib\\site-packages\\tensorflow_core\\python\\ops\\math_grad.py:1424: where (from tensorflow.python.ops.array_ops) is deprecated and will be removed in a future version.\n",
      "Instructions for updating:\n",
      "Use tf.where in 2.0, which has the same broadcast rule as np.where\n",
      "WARNING:tensorflow:From C:\\ProgramData\\Anaconda3\\lib\\site-packages\\keras\\backend\\tensorflow_backend.py:986: The name tf.assign_add is deprecated. Please use tf.compat.v1.assign_add instead.\n",
      "\n",
      "WARNING:tensorflow:From C:\\ProgramData\\Anaconda3\\lib\\site-packages\\keras\\backend\\tensorflow_backend.py:973: The name tf.assign is deprecated. Please use tf.compat.v1.assign instead.\n",
      "\n",
      "WARNING:tensorflow:From C:\\ProgramData\\Anaconda3\\lib\\site-packages\\keras\\backend\\tensorflow_backend.py:2741: The name tf.Session is deprecated. Please use tf.compat.v1.Session instead.\n",
      "\n",
      "Train on 2871 samples, validate on 319 samples\n",
      "Epoch 1/30\n",
      "WARNING:tensorflow:From C:\\ProgramData\\Anaconda3\\lib\\site-packages\\keras\\backend\\tensorflow_backend.py:174: The name tf.get_default_session is deprecated. Please use tf.compat.v1.get_default_session instead.\n",
      "\n",
      "WARNING:tensorflow:From C:\\ProgramData\\Anaconda3\\lib\\site-packages\\keras\\backend\\tensorflow_backend.py:181: The name tf.ConfigProto is deprecated. Please use tf.compat.v1.ConfigProto instead.\n",
      "\n",
      "WARNING:tensorflow:From C:\\ProgramData\\Anaconda3\\lib\\site-packages\\keras\\backend\\tensorflow_backend.py:190: The name tf.global_variables is deprecated. Please use tf.compat.v1.global_variables instead.\n",
      "\n",
      "WARNING:tensorflow:From C:\\ProgramData\\Anaconda3\\lib\\site-packages\\keras\\backend\\tensorflow_backend.py:199: The name tf.is_variable_initialized is deprecated. Please use tf.compat.v1.is_variable_initialized instead.\n",
      "\n",
      "WARNING:tensorflow:From C:\\ProgramData\\Anaconda3\\lib\\site-packages\\keras\\backend\\tensorflow_backend.py:206: The name tf.variables_initializer is deprecated. Please use tf.compat.v1.variables_initializer instead.\n",
      "\n",
      "2871/2871 [==============================] - 3s 1ms/step - loss: 0.9254 - acc: 0.4148 - val_loss: 0.9194 - val_acc: 0.4420\n",
      "Epoch 2/30\n",
      "2871/2871 [==============================] - 0s 142us/step - loss: 0.8197 - acc: 0.4260 - val_loss: 0.7232 - val_acc: 0.4828\n",
      "Epoch 3/30\n",
      "2871/2871 [==============================] - 1s 304us/step - loss: 0.6330 - acc: 0.5117 - val_loss: 0.6207 - val_acc: 0.5110\n",
      "Epoch 4/30\n",
      "2871/2871 [==============================] - 1s 290us/step - loss: 0.5300 - acc: 0.5343 - val_loss: 0.5698 - val_acc: 0.5078\n",
      "Epoch 5/30\n",
      "2871/2871 [==============================] - 1s 367us/step - loss: 0.5111 - acc: 0.5280 - val_loss: 0.4566 - val_acc: 0.5737\n",
      "Epoch 6/30\n",
      "2871/2871 [==============================] - 1s 362us/step - loss: 0.4535 - acc: 0.5528 - val_loss: 0.5336 - val_acc: 0.5298\n",
      "Epoch 7/30\n",
      "2871/2871 [==============================] - 1s 282us/step - loss: 0.4771 - acc: 0.5350 - val_loss: 0.4261 - val_acc: 0.5956\n",
      "Epoch 8/30\n",
      "2871/2871 [==============================] - 1s 296us/step - loss: 0.4428 - acc: 0.5545 - val_loss: 0.5277 - val_acc: 0.5047\n",
      "Epoch 9/30\n",
      "2871/2871 [==============================] - 1s 342us/step - loss: 0.4271 - acc: 0.5670 - val_loss: 0.5469 - val_acc: 0.4984\n",
      "Epoch 10/30\n",
      "2871/2871 [==============================] - 1s 370us/step - loss: 0.4382 - acc: 0.5563 - val_loss: 0.5023 - val_acc: 0.5361\n",
      "Epoch 11/30\n",
      "2871/2871 [==============================] - 1s 352us/step - loss: 0.4228 - acc: 0.5670 - val_loss: 0.4596 - val_acc: 0.5737\n",
      "Epoch 12/30\n",
      "2871/2871 [==============================] - 1s 374us/step - loss: 0.4350 - acc: 0.5535 - val_loss: 0.4159 - val_acc: 0.6019\n",
      "Epoch 13/30\n",
      "2871/2871 [==============================] - 1s 211us/step - loss: 0.4304 - acc: 0.5524 - val_loss: 0.5163 - val_acc: 0.5329\n",
      "Epoch 14/30\n",
      "2871/2871 [==============================] - 1s 241us/step - loss: 0.4009 - acc: 0.5667 - val_loss: 0.5225 - val_acc: 0.5549\n",
      "Epoch 15/30\n",
      "2871/2871 [==============================] - 1s 349us/step - loss: 0.4009 - acc: 0.5723 - val_loss: 0.5322 - val_acc: 0.5172\n",
      "Epoch 16/30\n",
      "2871/2871 [==============================] - 1s 180us/step - loss: 0.3981 - acc: 0.5653 - val_loss: 0.4595 - val_acc: 0.5643\n",
      "Epoch 17/30\n",
      "2871/2871 [==============================] - 1s 291us/step - loss: 0.4001 - acc: 0.5611 - val_loss: 0.4990 - val_acc: 0.5110\n",
      "Epoch 18/30\n",
      "2871/2871 [==============================] - 1s 294us/step - loss: 0.4011 - acc: 0.5615 - val_loss: 0.5406 - val_acc: 0.5517\n",
      "Epoch 19/30\n",
      "2871/2871 [==============================] - 1s 321us/step - loss: 0.3956 - acc: 0.5702 - val_loss: 0.5057 - val_acc: 0.5486\n",
      "Epoch 20/30\n",
      "2871/2871 [==============================] - 1s 220us/step - loss: 0.4189 - acc: 0.5615 - val_loss: 0.4972 - val_acc: 0.5643\n",
      "Epoch 21/30\n",
      "2871/2871 [==============================] - 1s 214us/step - loss: 0.4000 - acc: 0.5590 - val_loss: 0.5360 - val_acc: 0.5423\n",
      "Epoch 22/30\n",
      "2871/2871 [==============================] - 1s 347us/step - loss: 0.4101 - acc: 0.5608 - val_loss: 0.5167 - val_acc: 0.5737\n",
      "Epoch 23/30\n",
      "2871/2871 [==============================] - 1s 287us/step - loss: 0.4099 - acc: 0.5594 - val_loss: 0.4338 - val_acc: 0.6301\n",
      "Epoch 24/30\n",
      "2871/2871 [==============================] - 1s 370us/step - loss: 0.3859 - acc: 0.5646 - val_loss: 0.5264 - val_acc: 0.5643\n",
      "Epoch 25/30\n",
      "2871/2871 [==============================] - 1s 212us/step - loss: 0.3819 - acc: 0.5852 - val_loss: 0.4978 - val_acc: 0.5611\n",
      "Epoch 26/30\n",
      "2871/2871 [==============================] - 1s 312us/step - loss: 0.4018 - acc: 0.5625 - val_loss: 0.5303 - val_acc: 0.5172\n",
      "Epoch 27/30\n",
      "2871/2871 [==============================] - 1s 202us/step - loss: 0.3857 - acc: 0.5712 - val_loss: 0.5615 - val_acc: 0.5361\n",
      "Epoch 28/30\n",
      "2871/2871 [==============================] - 1s 281us/step - loss: 0.3993 - acc: 0.5674 - val_loss: 0.5494 - val_acc: 0.5705\n",
      "Epoch 29/30\n",
      "2871/2871 [==============================] - 1s 229us/step - loss: 0.4058 - acc: 0.5542 - val_loss: 0.5205 - val_acc: 0.5580\n",
      "Epoch 30/30\n",
      "2871/2871 [==============================] - 1s 224us/step - loss: 0.3887 - acc: 0.5740 - val_loss: 0.4878 - val_acc: 0.5611\n"
     ]
    }
   ],
   "source": [
    "model.fit(x, y, epochs=30, batch_size=32, validation_split=0.1, shuffle=True)\n",
    "K.set_learning_phase(False)"
   ]
  },
  {
   "cell_type": "code",
   "execution_count": null,
   "metadata": {},
   "outputs": [],
   "source": []
  }
 ],
 "metadata": {
  "kernelspec": {
   "display_name": "Python 3",
   "language": "python",
   "name": "python3"
  },
  "language_info": {
   "codemirror_mode": {
    "name": "ipython",
    "version": 3
   },
   "file_extension": ".py",
   "mimetype": "text/x-python",
   "name": "python",
   "nbconvert_exporter": "python",
   "pygments_lexer": "ipython3",
   "version": "3.7.3"
  }
 },
 "nbformat": 4,
 "nbformat_minor": 2
}
